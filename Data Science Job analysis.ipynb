{
 "cells": [
  {
   "cell_type": "markdown",
   "id": "d5adb6cc",
   "metadata": {},
   "source": [
    "DATASET LINK :https://www.kaggle.com/datasets/niyalthakkar/data-science-jobs-analysis"
   ]
  },
  {
   "cell_type": "code",
   "execution_count": 1,
   "id": "b8a50b09",
   "metadata": {},
   "outputs": [],
   "source": [
    "# Write this command on top to autocomplete text , it improves working speed\n",
    "%config Completer.use_jedi = False"
   ]
  },
  {
   "cell_type": "markdown",
   "id": "05498d11",
   "metadata": {},
   "source": [
    "# IMPORT LIBRARIES"
   ]
  },
  {
   "cell_type": "code",
   "execution_count": 2,
   "id": "e80b756e",
   "metadata": {},
   "outputs": [],
   "source": [
    "import pandas as pd\n",
    "import matplotlib.pyplot as plt\n",
    "import seaborn as sns\n",
    "import warnings\n",
    "warnings.filterwarnings('ignore')"
   ]
  },
  {
   "cell_type": "code",
   "execution_count": 3,
   "id": "463bf559",
   "metadata": {
    "scrolled": false
   },
   "outputs": [
    {
     "data": {
      "text/html": [
       "<div>\n",
       "<style scoped>\n",
       "    .dataframe tbody tr th:only-of-type {\n",
       "        vertical-align: middle;\n",
       "    }\n",
       "\n",
       "    .dataframe tbody tr th {\n",
       "        vertical-align: top;\n",
       "    }\n",
       "\n",
       "    .dataframe thead th {\n",
       "        text-align: right;\n",
       "    }\n",
       "</style>\n",
       "<table border=\"1\" class=\"dataframe\">\n",
       "  <thead>\n",
       "    <tr style=\"text-align: right;\">\n",
       "      <th></th>\n",
       "      <th>Unnamed: 0</th>\n",
       "      <th>work_year</th>\n",
       "      <th>experience_level</th>\n",
       "      <th>employment_type</th>\n",
       "      <th>job_title</th>\n",
       "      <th>salary</th>\n",
       "      <th>salary_currency</th>\n",
       "      <th>salary_in_usd</th>\n",
       "      <th>employee_residence</th>\n",
       "      <th>remote_ratio</th>\n",
       "      <th>company_location</th>\n",
       "      <th>company_size</th>\n",
       "    </tr>\n",
       "  </thead>\n",
       "  <tbody>\n",
       "    <tr>\n",
       "      <th>0</th>\n",
       "      <td>0</td>\n",
       "      <td>2020</td>\n",
       "      <td>MI</td>\n",
       "      <td>FT</td>\n",
       "      <td>Data Scientist</td>\n",
       "      <td>70000</td>\n",
       "      <td>EUR</td>\n",
       "      <td>79833</td>\n",
       "      <td>DE</td>\n",
       "      <td>0</td>\n",
       "      <td>DE</td>\n",
       "      <td>L</td>\n",
       "    </tr>\n",
       "    <tr>\n",
       "      <th>1</th>\n",
       "      <td>1</td>\n",
       "      <td>2020</td>\n",
       "      <td>SE</td>\n",
       "      <td>FT</td>\n",
       "      <td>Machine Learning Scientist</td>\n",
       "      <td>260000</td>\n",
       "      <td>USD</td>\n",
       "      <td>260000</td>\n",
       "      <td>JP</td>\n",
       "      <td>0</td>\n",
       "      <td>JP</td>\n",
       "      <td>S</td>\n",
       "    </tr>\n",
       "    <tr>\n",
       "      <th>2</th>\n",
       "      <td>2</td>\n",
       "      <td>2020</td>\n",
       "      <td>SE</td>\n",
       "      <td>FT</td>\n",
       "      <td>Big Data Engineer</td>\n",
       "      <td>85000</td>\n",
       "      <td>GBP</td>\n",
       "      <td>109024</td>\n",
       "      <td>GB</td>\n",
       "      <td>50</td>\n",
       "      <td>GB</td>\n",
       "      <td>M</td>\n",
       "    </tr>\n",
       "    <tr>\n",
       "      <th>3</th>\n",
       "      <td>3</td>\n",
       "      <td>2020</td>\n",
       "      <td>MI</td>\n",
       "      <td>FT</td>\n",
       "      <td>Product Data Analyst</td>\n",
       "      <td>20000</td>\n",
       "      <td>USD</td>\n",
       "      <td>20000</td>\n",
       "      <td>HN</td>\n",
       "      <td>0</td>\n",
       "      <td>HN</td>\n",
       "      <td>S</td>\n",
       "    </tr>\n",
       "    <tr>\n",
       "      <th>4</th>\n",
       "      <td>4</td>\n",
       "      <td>2020</td>\n",
       "      <td>SE</td>\n",
       "      <td>FT</td>\n",
       "      <td>Machine Learning Engineer</td>\n",
       "      <td>150000</td>\n",
       "      <td>USD</td>\n",
       "      <td>150000</td>\n",
       "      <td>US</td>\n",
       "      <td>50</td>\n",
       "      <td>US</td>\n",
       "      <td>L</td>\n",
       "    </tr>\n",
       "  </tbody>\n",
       "</table>\n",
       "</div>"
      ],
      "text/plain": [
       "   Unnamed: 0  work_year experience_level employment_type  \\\n",
       "0           0       2020               MI              FT   \n",
       "1           1       2020               SE              FT   \n",
       "2           2       2020               SE              FT   \n",
       "3           3       2020               MI              FT   \n",
       "4           4       2020               SE              FT   \n",
       "\n",
       "                    job_title  salary salary_currency  salary_in_usd  \\\n",
       "0              Data Scientist   70000             EUR          79833   \n",
       "1  Machine Learning Scientist  260000             USD         260000   \n",
       "2           Big Data Engineer   85000             GBP         109024   \n",
       "3        Product Data Analyst   20000             USD          20000   \n",
       "4   Machine Learning Engineer  150000             USD         150000   \n",
       "\n",
       "  employee_residence  remote_ratio company_location company_size  \n",
       "0                 DE             0               DE            L  \n",
       "1                 JP             0               JP            S  \n",
       "2                 GB            50               GB            M  \n",
       "3                 HN             0               HN            S  \n",
       "4                 US            50               US            L  "
      ]
     },
     "execution_count": 3,
     "metadata": {},
     "output_type": "execute_result"
    }
   ],
   "source": [
    "df = pd.read_csv(\"ds.salaries.csv\")\n",
    "df.head()"
   ]
  },
  {
   "cell_type": "markdown",
   "id": "0fe8ddbc",
   "metadata": {},
   "source": [
    "# IDENTIFYING MISSING AND DUPLICATE VALUES"
   ]
  },
  {
   "cell_type": "code",
   "execution_count": 4,
   "id": "c114618b",
   "metadata": {},
   "outputs": [
    {
     "data": {
      "text/plain": [
       "Unnamed: 0            0\n",
       "work_year             0\n",
       "experience_level      0\n",
       "employment_type       0\n",
       "job_title             0\n",
       "salary                0\n",
       "salary_currency       0\n",
       "salary_in_usd         0\n",
       "employee_residence    0\n",
       "remote_ratio          0\n",
       "company_location      0\n",
       "company_size          0\n",
       "dtype: int64"
      ]
     },
     "execution_count": 4,
     "metadata": {},
     "output_type": "execute_result"
    }
   ],
   "source": [
    "df.isnull().sum()"
   ]
  },
  {
   "cell_type": "code",
   "execution_count": 5,
   "id": "979142ae",
   "metadata": {},
   "outputs": [
    {
     "data": {
      "text/plain": [
       "0"
      ]
     },
     "execution_count": 5,
     "metadata": {},
     "output_type": "execute_result"
    }
   ],
   "source": [
    "df.duplicated().sum()"
   ]
  },
  {
   "cell_type": "markdown",
   "id": "31a3e70a",
   "metadata": {},
   "source": [
    "# FEATURE SELECTION"
   ]
  },
  {
   "cell_type": "code",
   "execution_count": 6,
   "id": "c2a1dbaf",
   "metadata": {},
   "outputs": [],
   "source": [
    "df.drop(columns = ['Unnamed: 0','salary','salary_currency','employee_residence','company_size'], inplace = True)"
   ]
  },
  {
   "cell_type": "code",
   "execution_count": 7,
   "id": "56e0163d",
   "metadata": {
    "scrolled": true
   },
   "outputs": [
    {
     "data": {
      "text/html": [
       "<div>\n",
       "<style scoped>\n",
       "    .dataframe tbody tr th:only-of-type {\n",
       "        vertical-align: middle;\n",
       "    }\n",
       "\n",
       "    .dataframe tbody tr th {\n",
       "        vertical-align: top;\n",
       "    }\n",
       "\n",
       "    .dataframe thead th {\n",
       "        text-align: right;\n",
       "    }\n",
       "</style>\n",
       "<table border=\"1\" class=\"dataframe\">\n",
       "  <thead>\n",
       "    <tr style=\"text-align: right;\">\n",
       "      <th></th>\n",
       "      <th>work_year</th>\n",
       "      <th>experience_level</th>\n",
       "      <th>employment_type</th>\n",
       "      <th>job_title</th>\n",
       "      <th>salary_in_usd</th>\n",
       "      <th>remote_ratio</th>\n",
       "      <th>company_location</th>\n",
       "    </tr>\n",
       "  </thead>\n",
       "  <tbody>\n",
       "    <tr>\n",
       "      <th>0</th>\n",
       "      <td>2020</td>\n",
       "      <td>MI</td>\n",
       "      <td>FT</td>\n",
       "      <td>Data Scientist</td>\n",
       "      <td>79833</td>\n",
       "      <td>0</td>\n",
       "      <td>DE</td>\n",
       "    </tr>\n",
       "    <tr>\n",
       "      <th>1</th>\n",
       "      <td>2020</td>\n",
       "      <td>SE</td>\n",
       "      <td>FT</td>\n",
       "      <td>Machine Learning Scientist</td>\n",
       "      <td>260000</td>\n",
       "      <td>0</td>\n",
       "      <td>JP</td>\n",
       "    </tr>\n",
       "    <tr>\n",
       "      <th>2</th>\n",
       "      <td>2020</td>\n",
       "      <td>SE</td>\n",
       "      <td>FT</td>\n",
       "      <td>Big Data Engineer</td>\n",
       "      <td>109024</td>\n",
       "      <td>50</td>\n",
       "      <td>GB</td>\n",
       "    </tr>\n",
       "    <tr>\n",
       "      <th>3</th>\n",
       "      <td>2020</td>\n",
       "      <td>MI</td>\n",
       "      <td>FT</td>\n",
       "      <td>Product Data Analyst</td>\n",
       "      <td>20000</td>\n",
       "      <td>0</td>\n",
       "      <td>HN</td>\n",
       "    </tr>\n",
       "    <tr>\n",
       "      <th>4</th>\n",
       "      <td>2020</td>\n",
       "      <td>SE</td>\n",
       "      <td>FT</td>\n",
       "      <td>Machine Learning Engineer</td>\n",
       "      <td>150000</td>\n",
       "      <td>50</td>\n",
       "      <td>US</td>\n",
       "    </tr>\n",
       "  </tbody>\n",
       "</table>\n",
       "</div>"
      ],
      "text/plain": [
       "   work_year experience_level employment_type                   job_title  \\\n",
       "0       2020               MI              FT              Data Scientist   \n",
       "1       2020               SE              FT  Machine Learning Scientist   \n",
       "2       2020               SE              FT           Big Data Engineer   \n",
       "3       2020               MI              FT        Product Data Analyst   \n",
       "4       2020               SE              FT   Machine Learning Engineer   \n",
       "\n",
       "   salary_in_usd  remote_ratio company_location  \n",
       "0          79833             0               DE  \n",
       "1         260000             0               JP  \n",
       "2         109024            50               GB  \n",
       "3          20000             0               HN  \n",
       "4         150000            50               US  "
      ]
     },
     "execution_count": 7,
     "metadata": {},
     "output_type": "execute_result"
    }
   ],
   "source": [
    "df.head()"
   ]
  },
  {
   "cell_type": "markdown",
   "id": "dba94cf1",
   "metadata": {},
   "source": [
    "# DATA UNDERSTANDING"
   ]
  },
  {
   "cell_type": "code",
   "execution_count": 8,
   "id": "1eafbe11",
   "metadata": {},
   "outputs": [
    {
     "name": "stdout",
     "output_type": "stream",
     "text": [
      "<class 'pandas.core.frame.DataFrame'>\n",
      "RangeIndex: 607 entries, 0 to 606\n",
      "Data columns (total 7 columns):\n",
      " #   Column            Non-Null Count  Dtype \n",
      "---  ------            --------------  ----- \n",
      " 0   work_year         607 non-null    int64 \n",
      " 1   experience_level  607 non-null    object\n",
      " 2   employment_type   607 non-null    object\n",
      " 3   job_title         607 non-null    object\n",
      " 4   salary_in_usd     607 non-null    int64 \n",
      " 5   remote_ratio      607 non-null    int64 \n",
      " 6   company_location  607 non-null    object\n",
      "dtypes: int64(3), object(4)\n",
      "memory usage: 33.3+ KB\n"
     ]
    }
   ],
   "source": [
    "df.info()"
   ]
  },
  {
   "cell_type": "code",
   "execution_count": 9,
   "id": "f1dde501",
   "metadata": {},
   "outputs": [
    {
     "data": {
      "text/html": [
       "<div>\n",
       "<style scoped>\n",
       "    .dataframe tbody tr th:only-of-type {\n",
       "        vertical-align: middle;\n",
       "    }\n",
       "\n",
       "    .dataframe tbody tr th {\n",
       "        vertical-align: top;\n",
       "    }\n",
       "\n",
       "    .dataframe thead th {\n",
       "        text-align: right;\n",
       "    }\n",
       "</style>\n",
       "<table border=\"1\" class=\"dataframe\">\n",
       "  <thead>\n",
       "    <tr style=\"text-align: right;\">\n",
       "      <th></th>\n",
       "      <th>work_year</th>\n",
       "      <th>salary_in_usd</th>\n",
       "      <th>remote_ratio</th>\n",
       "    </tr>\n",
       "  </thead>\n",
       "  <tbody>\n",
       "    <tr>\n",
       "      <th>count</th>\n",
       "      <td>607.000000</td>\n",
       "      <td>607.000000</td>\n",
       "      <td>607.00000</td>\n",
       "    </tr>\n",
       "    <tr>\n",
       "      <th>mean</th>\n",
       "      <td>2021.405272</td>\n",
       "      <td>112297.869852</td>\n",
       "      <td>70.92257</td>\n",
       "    </tr>\n",
       "    <tr>\n",
       "      <th>std</th>\n",
       "      <td>0.692133</td>\n",
       "      <td>70957.259411</td>\n",
       "      <td>40.70913</td>\n",
       "    </tr>\n",
       "    <tr>\n",
       "      <th>min</th>\n",
       "      <td>2020.000000</td>\n",
       "      <td>2859.000000</td>\n",
       "      <td>0.00000</td>\n",
       "    </tr>\n",
       "    <tr>\n",
       "      <th>25%</th>\n",
       "      <td>2021.000000</td>\n",
       "      <td>62726.000000</td>\n",
       "      <td>50.00000</td>\n",
       "    </tr>\n",
       "    <tr>\n",
       "      <th>50%</th>\n",
       "      <td>2022.000000</td>\n",
       "      <td>101570.000000</td>\n",
       "      <td>100.00000</td>\n",
       "    </tr>\n",
       "    <tr>\n",
       "      <th>75%</th>\n",
       "      <td>2022.000000</td>\n",
       "      <td>150000.000000</td>\n",
       "      <td>100.00000</td>\n",
       "    </tr>\n",
       "    <tr>\n",
       "      <th>max</th>\n",
       "      <td>2022.000000</td>\n",
       "      <td>600000.000000</td>\n",
       "      <td>100.00000</td>\n",
       "    </tr>\n",
       "  </tbody>\n",
       "</table>\n",
       "</div>"
      ],
      "text/plain": [
       "         work_year  salary_in_usd  remote_ratio\n",
       "count   607.000000     607.000000     607.00000\n",
       "mean   2021.405272  112297.869852      70.92257\n",
       "std       0.692133   70957.259411      40.70913\n",
       "min    2020.000000    2859.000000       0.00000\n",
       "25%    2021.000000   62726.000000      50.00000\n",
       "50%    2022.000000  101570.000000     100.00000\n",
       "75%    2022.000000  150000.000000     100.00000\n",
       "max    2022.000000  600000.000000     100.00000"
      ]
     },
     "execution_count": 9,
     "metadata": {},
     "output_type": "execute_result"
    }
   ],
   "source": [
    "df.describe()"
   ]
  },
  {
   "cell_type": "markdown",
   "id": "74aaed21",
   "metadata": {},
   "source": [
    "## Observation based on above figure:\n",
    "### 1) min salary is 2859 USD\n",
    "### 2) avg salary is 1,12,297 USD\n",
    "### 3) max salary is 6,00,000 USD "
   ]
  },
  {
   "cell_type": "code",
   "execution_count": 10,
   "id": "61f16320",
   "metadata": {},
   "outputs": [
    {
     "data": {
      "text/plain": [
       "SE    280\n",
       "MI    213\n",
       "EN     88\n",
       "EX     26\n",
       "Name: experience_level, dtype: int64"
      ]
     },
     "execution_count": 10,
     "metadata": {},
     "output_type": "execute_result"
    }
   ],
   "source": [
    "# CATEGORICAL VARIABLE UNDERSTANDING\n",
    "df['experience_level'].value_counts()"
   ]
  },
  {
   "cell_type": "code",
   "execution_count": 11,
   "id": "8eeffeb5",
   "metadata": {},
   "outputs": [
    {
     "data": {
      "text/plain": [
       "FT    588\n",
       "PT     10\n",
       "CT      5\n",
       "FL      4\n",
       "Name: employment_type, dtype: int64"
      ]
     },
     "execution_count": 11,
     "metadata": {},
     "output_type": "execute_result"
    }
   ],
   "source": [
    "df['employment_type'].value_counts()"
   ]
  },
  {
   "cell_type": "code",
   "execution_count": 12,
   "id": "9cd9d954",
   "metadata": {},
   "outputs": [],
   "source": [
    "# FULL FORM OF ABBREVIATIONS\n",
    "#     'SE': 'Senior',\n",
    "#     'MI': 'Mid',\n",
    "#     'EN': 'Entry',\n",
    "#     'EX': 'Executive'\n",
    "\n",
    "#     'FT': 'Full-time',\n",
    "#     'PT': 'Part-time',\n",
    "#     'CT': 'Contract',\n",
    "#     'FL': 'Freelance"
   ]
  },
  {
   "cell_type": "code",
   "execution_count": 13,
   "id": "fd42c982",
   "metadata": {},
   "outputs": [
    {
     "data": {
      "text/plain": [
       "100    381\n",
       "0      127\n",
       "50      99\n",
       "Name: remote_ratio, dtype: int64"
      ]
     },
     "execution_count": 13,
     "metadata": {},
     "output_type": "execute_result"
    }
   ],
   "source": [
    "df['remote_ratio'].value_counts()"
   ]
  },
  {
   "cell_type": "markdown",
   "id": "e0ed70eb",
   "metadata": {},
   "source": [
    "# PREPROCESSING"
   ]
  },
  {
   "cell_type": "code",
   "execution_count": 14,
   "id": "43eafaad",
   "metadata": {},
   "outputs": [],
   "source": [
    "# TRANSFORMING ABBREVIATIONS INTO FULL FORM FOR BETTER UNDERSTANDING\n",
    "df['employment_type'] =  df['employment_type'].map({\"FT\":\"Full Time\",\"PT\":\"Part Time\",\"CT\":\"Contract\",\"FL\":\"Freelance\"})\n",
    "df['experience_level'] =  df['experience_level'].map({\"SE\":\"Senior\",\"MI\":\"Mid\",\"EN\":\"Entry\",\"EX\":\"Executive\"})\n",
    "\n",
    "# CONVERTING REMOTE_RATIO VALUES INTO WORK TYPE NAMES LIKE : REMOTE,HYBRID AND ONSITE\n",
    "df['remote_ratio'] = df['remote_ratio'].map({100:\"Remote\",0:\"Onsite\",50:\"Hybrid\"})"
   ]
  },
  {
   "cell_type": "code",
   "execution_count": 15,
   "id": "3470eb4f",
   "metadata": {},
   "outputs": [
    {
     "data": {
      "text/html": [
       "<div>\n",
       "<style scoped>\n",
       "    .dataframe tbody tr th:only-of-type {\n",
       "        vertical-align: middle;\n",
       "    }\n",
       "\n",
       "    .dataframe tbody tr th {\n",
       "        vertical-align: top;\n",
       "    }\n",
       "\n",
       "    .dataframe thead th {\n",
       "        text-align: right;\n",
       "    }\n",
       "</style>\n",
       "<table border=\"1\" class=\"dataframe\">\n",
       "  <thead>\n",
       "    <tr style=\"text-align: right;\">\n",
       "      <th></th>\n",
       "      <th>work_year</th>\n",
       "      <th>experience_level</th>\n",
       "      <th>employment_type</th>\n",
       "      <th>job_title</th>\n",
       "      <th>salary_in_usd</th>\n",
       "      <th>remote_ratio</th>\n",
       "      <th>company_location</th>\n",
       "    </tr>\n",
       "  </thead>\n",
       "  <tbody>\n",
       "    <tr>\n",
       "      <th>0</th>\n",
       "      <td>2020</td>\n",
       "      <td>Mid</td>\n",
       "      <td>Full Time</td>\n",
       "      <td>Data Scientist</td>\n",
       "      <td>79833</td>\n",
       "      <td>Onsite</td>\n",
       "      <td>DE</td>\n",
       "    </tr>\n",
       "    <tr>\n",
       "      <th>1</th>\n",
       "      <td>2020</td>\n",
       "      <td>Senior</td>\n",
       "      <td>Full Time</td>\n",
       "      <td>Machine Learning Scientist</td>\n",
       "      <td>260000</td>\n",
       "      <td>Onsite</td>\n",
       "      <td>JP</td>\n",
       "    </tr>\n",
       "    <tr>\n",
       "      <th>2</th>\n",
       "      <td>2020</td>\n",
       "      <td>Senior</td>\n",
       "      <td>Full Time</td>\n",
       "      <td>Big Data Engineer</td>\n",
       "      <td>109024</td>\n",
       "      <td>Hybrid</td>\n",
       "      <td>GB</td>\n",
       "    </tr>\n",
       "    <tr>\n",
       "      <th>3</th>\n",
       "      <td>2020</td>\n",
       "      <td>Mid</td>\n",
       "      <td>Full Time</td>\n",
       "      <td>Product Data Analyst</td>\n",
       "      <td>20000</td>\n",
       "      <td>Onsite</td>\n",
       "      <td>HN</td>\n",
       "    </tr>\n",
       "    <tr>\n",
       "      <th>4</th>\n",
       "      <td>2020</td>\n",
       "      <td>Senior</td>\n",
       "      <td>Full Time</td>\n",
       "      <td>Machine Learning Engineer</td>\n",
       "      <td>150000</td>\n",
       "      <td>Hybrid</td>\n",
       "      <td>US</td>\n",
       "    </tr>\n",
       "  </tbody>\n",
       "</table>\n",
       "</div>"
      ],
      "text/plain": [
       "   work_year experience_level employment_type                   job_title  \\\n",
       "0       2020              Mid       Full Time              Data Scientist   \n",
       "1       2020           Senior       Full Time  Machine Learning Scientist   \n",
       "2       2020           Senior       Full Time           Big Data Engineer   \n",
       "3       2020              Mid       Full Time        Product Data Analyst   \n",
       "4       2020           Senior       Full Time   Machine Learning Engineer   \n",
       "\n",
       "   salary_in_usd remote_ratio company_location  \n",
       "0          79833       Onsite               DE  \n",
       "1         260000       Onsite               JP  \n",
       "2         109024       Hybrid               GB  \n",
       "3          20000       Onsite               HN  \n",
       "4         150000       Hybrid               US  "
      ]
     },
     "execution_count": 15,
     "metadata": {},
     "output_type": "execute_result"
    }
   ],
   "source": [
    "df.head()"
   ]
  },
  {
   "cell_type": "code",
   "execution_count": 16,
   "id": "44b59088",
   "metadata": {},
   "outputs": [
    {
     "name": "stdout",
     "output_type": "stream",
     "text": [
      "Requirement already satisfied: country_converter in c:\\users\\asus vivobook 14\\anaconda3\\lib\\site-packages (1.0.0)\n",
      "Requirement already satisfied: pandas>=1.0 in c:\\users\\asus vivobook 14\\anaconda3\\lib\\site-packages (from country_converter) (1.4.2)\n",
      "Requirement already satisfied: pytz>=2020.1 in c:\\users\\asus vivobook 14\\anaconda3\\lib\\site-packages (from pandas>=1.0->country_converter) (2021.3)\n",
      "Requirement already satisfied: numpy>=1.18.5 in c:\\users\\asus vivobook 14\\anaconda3\\lib\\site-packages (from pandas>=1.0->country_converter) (1.21.5)\n",
      "Requirement already satisfied: python-dateutil>=2.8.1 in c:\\users\\asus vivobook 14\\anaconda3\\lib\\site-packages (from pandas>=1.0->country_converter) (2.8.2)\n",
      "Requirement already satisfied: six>=1.5 in c:\\users\\asus vivobook 14\\anaconda3\\lib\\site-packages (from python-dateutil>=2.8.1->pandas>=1.0->country_converter) (1.16.0)\n"
     ]
    }
   ],
   "source": [
    "# NOW LETS CONVERT THE LOCATIONS CODE INTO FULL NAME\n",
    "# INSTALL CONVERTER FOR THIS TASK\n",
    "\n",
    "! pip install country_converter "
   ]
  },
  {
   "cell_type": "code",
   "execution_count": 17,
   "id": "1d705b7f",
   "metadata": {},
   "outputs": [],
   "source": [
    "import country_converter as coco"
   ]
  },
  {
   "cell_type": "code",
   "execution_count": 18,
   "id": "17c48bbe",
   "metadata": {},
   "outputs": [],
   "source": [
    "# NOTE: IT AUTOMATICALLY DETECTS CODE AND CONVERT INTO FULL NAME OF COUNTRIES\n",
    "df['company_location'] = coco.convert(df['company_location'],to = 'name_short',not_found = None)"
   ]
  },
  {
   "cell_type": "code",
   "execution_count": 19,
   "id": "7078b0c8",
   "metadata": {},
   "outputs": [
    {
     "data": {
      "text/html": [
       "<div>\n",
       "<style scoped>\n",
       "    .dataframe tbody tr th:only-of-type {\n",
       "        vertical-align: middle;\n",
       "    }\n",
       "\n",
       "    .dataframe tbody tr th {\n",
       "        vertical-align: top;\n",
       "    }\n",
       "\n",
       "    .dataframe thead th {\n",
       "        text-align: right;\n",
       "    }\n",
       "</style>\n",
       "<table border=\"1\" class=\"dataframe\">\n",
       "  <thead>\n",
       "    <tr style=\"text-align: right;\">\n",
       "      <th></th>\n",
       "      <th>work_year</th>\n",
       "      <th>experience_level</th>\n",
       "      <th>employment_type</th>\n",
       "      <th>job_title</th>\n",
       "      <th>salary_in_usd</th>\n",
       "      <th>remote_ratio</th>\n",
       "      <th>company_location</th>\n",
       "    </tr>\n",
       "  </thead>\n",
       "  <tbody>\n",
       "    <tr>\n",
       "      <th>0</th>\n",
       "      <td>2020</td>\n",
       "      <td>Mid</td>\n",
       "      <td>Full Time</td>\n",
       "      <td>Data Scientist</td>\n",
       "      <td>79833</td>\n",
       "      <td>Onsite</td>\n",
       "      <td>Germany</td>\n",
       "    </tr>\n",
       "    <tr>\n",
       "      <th>1</th>\n",
       "      <td>2020</td>\n",
       "      <td>Senior</td>\n",
       "      <td>Full Time</td>\n",
       "      <td>Machine Learning Scientist</td>\n",
       "      <td>260000</td>\n",
       "      <td>Onsite</td>\n",
       "      <td>Japan</td>\n",
       "    </tr>\n",
       "    <tr>\n",
       "      <th>2</th>\n",
       "      <td>2020</td>\n",
       "      <td>Senior</td>\n",
       "      <td>Full Time</td>\n",
       "      <td>Big Data Engineer</td>\n",
       "      <td>109024</td>\n",
       "      <td>Hybrid</td>\n",
       "      <td>United Kingdom</td>\n",
       "    </tr>\n",
       "    <tr>\n",
       "      <th>3</th>\n",
       "      <td>2020</td>\n",
       "      <td>Mid</td>\n",
       "      <td>Full Time</td>\n",
       "      <td>Product Data Analyst</td>\n",
       "      <td>20000</td>\n",
       "      <td>Onsite</td>\n",
       "      <td>Honduras</td>\n",
       "    </tr>\n",
       "    <tr>\n",
       "      <th>4</th>\n",
       "      <td>2020</td>\n",
       "      <td>Senior</td>\n",
       "      <td>Full Time</td>\n",
       "      <td>Machine Learning Engineer</td>\n",
       "      <td>150000</td>\n",
       "      <td>Hybrid</td>\n",
       "      <td>United States</td>\n",
       "    </tr>\n",
       "  </tbody>\n",
       "</table>\n",
       "</div>"
      ],
      "text/plain": [
       "   work_year experience_level employment_type                   job_title  \\\n",
       "0       2020              Mid       Full Time              Data Scientist   \n",
       "1       2020           Senior       Full Time  Machine Learning Scientist   \n",
       "2       2020           Senior       Full Time           Big Data Engineer   \n",
       "3       2020              Mid       Full Time        Product Data Analyst   \n",
       "4       2020           Senior       Full Time   Machine Learning Engineer   \n",
       "\n",
       "   salary_in_usd remote_ratio company_location  \n",
       "0          79833       Onsite          Germany  \n",
       "1         260000       Onsite            Japan  \n",
       "2         109024       Hybrid   United Kingdom  \n",
       "3          20000       Onsite         Honduras  \n",
       "4         150000       Hybrid    United States  "
      ]
     },
     "execution_count": 19,
     "metadata": {},
     "output_type": "execute_result"
    }
   ],
   "source": [
    "df.head()"
   ]
  },
  {
   "cell_type": "code",
   "execution_count": 20,
   "id": "b82d33d0",
   "metadata": {},
   "outputs": [],
   "source": [
    "df.rename(columns={'salary_in_usd': 'salary'}, inplace=True)"
   ]
  },
  {
   "cell_type": "markdown",
   "id": "d600b8ee",
   "metadata": {},
   "source": [
    "##### BELOW IS THE FINAL CLEANED DATA"
   ]
  },
  {
   "cell_type": "code",
   "execution_count": 21,
   "id": "32fcf129",
   "metadata": {},
   "outputs": [
    {
     "data": {
      "text/html": [
       "<div>\n",
       "<style scoped>\n",
       "    .dataframe tbody tr th:only-of-type {\n",
       "        vertical-align: middle;\n",
       "    }\n",
       "\n",
       "    .dataframe tbody tr th {\n",
       "        vertical-align: top;\n",
       "    }\n",
       "\n",
       "    .dataframe thead th {\n",
       "        text-align: right;\n",
       "    }\n",
       "</style>\n",
       "<table border=\"1\" class=\"dataframe\">\n",
       "  <thead>\n",
       "    <tr style=\"text-align: right;\">\n",
       "      <th></th>\n",
       "      <th>work_year</th>\n",
       "      <th>experience_level</th>\n",
       "      <th>employment_type</th>\n",
       "      <th>job_title</th>\n",
       "      <th>salary</th>\n",
       "      <th>remote_ratio</th>\n",
       "      <th>company_location</th>\n",
       "    </tr>\n",
       "  </thead>\n",
       "  <tbody>\n",
       "    <tr>\n",
       "      <th>0</th>\n",
       "      <td>2020</td>\n",
       "      <td>Mid</td>\n",
       "      <td>Full Time</td>\n",
       "      <td>Data Scientist</td>\n",
       "      <td>79833</td>\n",
       "      <td>Onsite</td>\n",
       "      <td>Germany</td>\n",
       "    </tr>\n",
       "    <tr>\n",
       "      <th>1</th>\n",
       "      <td>2020</td>\n",
       "      <td>Senior</td>\n",
       "      <td>Full Time</td>\n",
       "      <td>Machine Learning Scientist</td>\n",
       "      <td>260000</td>\n",
       "      <td>Onsite</td>\n",
       "      <td>Japan</td>\n",
       "    </tr>\n",
       "    <tr>\n",
       "      <th>2</th>\n",
       "      <td>2020</td>\n",
       "      <td>Senior</td>\n",
       "      <td>Full Time</td>\n",
       "      <td>Big Data Engineer</td>\n",
       "      <td>109024</td>\n",
       "      <td>Hybrid</td>\n",
       "      <td>United Kingdom</td>\n",
       "    </tr>\n",
       "    <tr>\n",
       "      <th>3</th>\n",
       "      <td>2020</td>\n",
       "      <td>Mid</td>\n",
       "      <td>Full Time</td>\n",
       "      <td>Product Data Analyst</td>\n",
       "      <td>20000</td>\n",
       "      <td>Onsite</td>\n",
       "      <td>Honduras</td>\n",
       "    </tr>\n",
       "    <tr>\n",
       "      <th>4</th>\n",
       "      <td>2020</td>\n",
       "      <td>Senior</td>\n",
       "      <td>Full Time</td>\n",
       "      <td>Machine Learning Engineer</td>\n",
       "      <td>150000</td>\n",
       "      <td>Hybrid</td>\n",
       "      <td>United States</td>\n",
       "    </tr>\n",
       "  </tbody>\n",
       "</table>\n",
       "</div>"
      ],
      "text/plain": [
       "   work_year experience_level employment_type                   job_title  \\\n",
       "0       2020              Mid       Full Time              Data Scientist   \n",
       "1       2020           Senior       Full Time  Machine Learning Scientist   \n",
       "2       2020           Senior       Full Time           Big Data Engineer   \n",
       "3       2020              Mid       Full Time        Product Data Analyst   \n",
       "4       2020           Senior       Full Time   Machine Learning Engineer   \n",
       "\n",
       "   salary remote_ratio company_location  \n",
       "0   79833       Onsite          Germany  \n",
       "1  260000       Onsite            Japan  \n",
       "2  109024       Hybrid   United Kingdom  \n",
       "3   20000       Onsite         Honduras  \n",
       "4  150000       Hybrid    United States  "
      ]
     },
     "execution_count": 21,
     "metadata": {},
     "output_type": "execute_result"
    }
   ],
   "source": [
    "df.head()"
   ]
  },
  {
   "cell_type": "markdown",
   "id": "e9137f29",
   "metadata": {},
   "source": [
    "# PERFORMING EDA (Exploratory Data Analysis)"
   ]
  },
  {
   "cell_type": "code",
   "execution_count": 22,
   "id": "33fb5e47",
   "metadata": {},
   "outputs": [
    {
     "data": {
      "image/png": "[encoded data removed]",
      "text/plain": [
       "<Figure size 432x288 with 1 Axes>"
      ]
     },
     "metadata": {
      "needs_background": "light"
     },
     "output_type": "display_data"
    }
   ],
   "source": [
    "# LETS PLOT THE SALARY DISTRIBUTION\n",
    "\n",
    "sns.distplot(df['salary'],kde=True,color=\"green\",hist_kws={\"edgecolor\":\"black\"})\n",
    "plt.title(\"Salary Distribution\")\n",
    "plt.xlabel(\"Salary ($)\")\n",
    "plt.show()"
   ]
  },
  {
   "cell_type": "markdown",
   "id": "688e99e5",
   "metadata": {},
   "source": [
    "### Obsevation based on above plot : \n",
    "#### 1) There are few people whose salary is greater than 3L US Dollar"
   ]
  },
  {
   "cell_type": "markdown",
   "id": "7b2f144c",
   "metadata": {},
   "source": [
    "# ________________________________________________________________________________________________________________________________________"
   ]
  },
  {
   "cell_type": "markdown",
   "id": "9ae10282",
   "metadata": {},
   "source": [
    "##### QUES1 : what are top 10 countries offering highest data science job?\n",
    "##### QUES 2: what are the top 10 job openings in data science?"
   ]
  },
  {
   "cell_type": "code",
   "execution_count": 23,
   "id": "13b7102a",
   "metadata": {},
   "outputs": [
    {
     "data": {
      "image/png": "[encoded data removed]",
      "text/plain": [
       "<Figure size 1800x360 with 2 Axes>"
      ]
     },
     "metadata": {
      "needs_background": "light"
     },
     "output_type": "display_data"
    }
   ],
   "source": [
    "# what are top 10 countries offering highest data science job?\n",
    "plt.figure(figsize=(25,5))\n",
    "plt.subplot(1,2,2)\n",
    "top_country_count = df['company_location'].value_counts()[:10]\n",
    "sns.barplot(top_country_count,top_country_count.index)\n",
    "plt.title(\"Top 10 countries offering highest Data Science Job\",fontdict={\"fontsize\":16})\n",
    "plt.xlabel(\"Counts    (fig.2)\",fontdict={\"fontsize\":16})\n",
    "plt.ylabel(\"Countries\",fontdict={\"fontsize\":16})\n",
    "\n",
    "# what are the top 10 job openings in data science?\n",
    "plt.subplot(1,2,1)\n",
    "top_jobs_count = df['job_title'].value_counts()[:10]\n",
    "sns.barplot(top_jobs_count,top_jobs_count.index)\n",
    "plt.title(\"Top 10 job roles requirement in Data Science industry\",fontdict={\"fontsize\":16})\n",
    "plt.xlabel(\"counts    (fig.1)\",fontdict={\"fontsize\":16})\n",
    "plt.ylabel(\"Job Roles\",fontdict={\"fontsize\":16})\n",
    "plt.show()\n"
   ]
  },
  {
   "cell_type": "markdown",
   "id": "d16029e2",
   "metadata": {},
   "source": [
    "### Observations based on fig.1\n",
    "#### 1) Data Scientist is top 1st job role offered by data science\n",
    "#### 2) Data Engineer is 2nd top role among all job roles in data science \n",
    "#### 3) No. of openings in Data Analyst role are less than Data Eengineer\n",
    "\n",
    "### Observations based on fig.2\n",
    "#### 1) US is top 1st country offering highest data science job\n",
    "#### 2) UK is top 2nd country offering data science job\n",
    "#### 3) India is top 5th country offering data science job"
   ]
  },
  {
   "cell_type": "markdown",
   "id": "727889f2",
   "metadata": {},
   "source": [
    "#### QUES3: WHAT ARE THE TOP 10 COUNTRIES PAYING HIGHEST SALARY?\n",
    "#### QUES4: WHAT ARE THE TOP 10 JOB ROLES THE HIGHEST AVERAGE SALARY?"
   ]
  },
  {
   "cell_type": "code",
   "execution_count": 24,
   "id": "c5ab3748",
   "metadata": {},
   "outputs": [
    {
     "data": {
      "text/plain": [
       "company_location\n",
       "Russia                  157500.000000\n",
       "United States           144055.261972\n",
       "New Zealand             125000.000000\n",
       "Israel                  119059.000000\n",
       "Japan                   114127.333333\n",
       "Australia               108042.666667\n",
       "Iraq                    100000.000000\n",
       "United Arab Emirates    100000.000000\n",
       "Algeria                 100000.000000\n",
       "Canada                   99823.733333\n",
       "Name: salary, dtype: float64"
      ]
     },
     "execution_count": 24,
     "metadata": {},
     "output_type": "execute_result"
    }
   ],
   "source": [
    "# lets group the salary based on country and then find the mean\n",
    "# arrange all the data in descending order then apply slicing on top 10 values\n",
    "\n",
    "top_country_salary = df.groupby('company_location')['salary'].agg('mean').sort_values(ascending = False)[:10]\n",
    "top_country_salary"
   ]
  },
  {
   "cell_type": "code",
   "execution_count": 25,
   "id": "220c376f",
   "metadata": {},
   "outputs": [
    {
     "data": {
      "image/png": "[encoded data removed]",
      "text/plain": [
       "<Figure size 1440x360 with 2 Axes>"
      ]
     },
     "metadata": {
      "needs_background": "light"
     },
     "output_type": "display_data"
    }
   ],
   "source": [
    "# Top 10 countries paying highest avg salaries\n",
    "\n",
    "plt.figure(figsize=(20,5))\n",
    "plt.subplot(1,2,2)\n",
    "sns.barplot(top_country_salary , top_country_salary.index)\n",
    "plt.title(\"Top 10 countries paying highest salary\",fontdict={\"fontsize\":16})\n",
    "plt.xlabel(\"Salary ($)  (fig.4)\",fontdict={\"fontsize\":10})\n",
    "plt.ylabel(\"Countries\",fontdict={\"fontsize\":10})\n",
    "\n",
    "# Top 10 job roles with highest avg salary\n",
    "\n",
    "plt.subplot(1,2,1)\n",
    "top_jobtitle_salary = df.groupby('job_title')['salary'].mean().sort_values(ascending = False)[:10]\n",
    "sns.barplot(top_jobtitle_salary, top_jobtitle_salary.index)\n",
    "plt.title(\"Top 10 job roles with highest avg salary\",fontdict={\"fontsize\":16})\n",
    "plt.xlabel(\"Salary ($)  (fig.3)\",fontdict={\"fontsize\":10})\n",
    "plt.ylabel(\"Job Roles\",fontdict={\"fontsize\":10})\n",
    "plt.show()"
   ]
  },
  {
   "cell_type": "markdown",
   "id": "b69b4994",
   "metadata": {},
   "source": [
    "# Observation based on fig.3\n",
    "#### 1) Data Analytics Lead is the top 1st role with the highest avg salary 4L US Dollar\n",
    "#### 2) Principal Data Engineer, Financial Data Analyst, Principal Data Scientist and Director of Data Science are among top 5 highest avg salary job roles.\n",
    "# Observation based on fig.4\n",
    "#### 1) Russia is the top 1st country pays highest avg salary for data science role\n",
    "#### 2) The US, New Zealand, Israel, and Japan are among the top 5 countries with the highest average salaries for data science roles"
   ]
  },
  {
   "cell_type": "code",
   "execution_count": 26,
   "id": "ec628819",
   "metadata": {},
   "outputs": [],
   "source": [
    "# Salary based on Experience level\n",
    "\n",
    "experienceVssalary = df.groupby('experience_level')['salary'].mean().sort_values(ascending=False)"
   ]
  },
  {
   "cell_type": "code",
   "execution_count": 27,
   "id": "1a86552d",
   "metadata": {},
   "outputs": [
    {
     "data": {
      "image/png": "[encoded data removed]",
      "text/plain": [
       "<Figure size 432x288 with 1 Axes>"
      ]
     },
     "metadata": {
      "needs_background": "light"
     },
     "output_type": "display_data"
    }
   ],
   "source": [
    "sns.barplot(experienceVssalary,experienceVssalary.index)\n",
    "plt.xlabel(\"Salary\",fontdict={\"fontsize\":10})\n",
    "plt.ylabel(\"Experience Level\",fontdict={\"fontsize\":10})\n",
    "plt.title(\"Salary based on Experience Level\",fontdict={\"fontsize\":16})\n",
    "plt.show()"
   ]
  },
  {
   "cell_type": "markdown",
   "id": "c4d27dbb",
   "metadata": {},
   "source": [
    "#### QUES: WHICH TYPE OF WORK HAVING THE LARGEST JOB VACCANCIES ?"
   ]
  },
  {
   "cell_type": "code",
   "execution_count": 28,
   "id": "b9a2185c",
   "metadata": {},
   "outputs": [
    {
     "data": {
      "text/plain": [
       "Remote    381\n",
       "Onsite    127\n",
       "Hybrid     99\n",
       "Name: remote_ratio, dtype: int64"
      ]
     },
     "execution_count": 28,
     "metadata": {},
     "output_type": "execute_result"
    }
   ],
   "source": [
    "df['remote_ratio'].value_counts()"
   ]
  },
  {
   "cell_type": "markdown",
   "id": "496b0f44",
   "metadata": {},
   "source": [
    "# Observations:\n",
    "#### 1) The category of remote work has the largest count of job vacancies"
   ]
  }
 ],
 "metadata": {
  "kernelspec": {
   "display_name": "Python 3 (ipykernel)",
   "language": "python",
   "name": "python3"
  },
  "language_info": {
   "codemirror_mode": {
    "name": "ipython",
    "version": 3
   },
   "file_extension": ".py",
   "mimetype": "text/x-python",
   "name": "python",
   "nbconvert_exporter": "python",
   "pygments_lexer": "ipython3",
   "version": "3.9.12"
  }
 },
 "nbformat": 4,
 "nbformat_minor": 5
}
